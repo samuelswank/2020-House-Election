{
 "cells": [
  {
   "cell_type": "code",
   "execution_count": 7,
   "id": "likely-animal",
   "metadata": {},
   "outputs": [
    {
     "name": "stdout",
     "output_type": "stream",
     "text": [
      "'data.frame':\t435 obs. of  69 variables:\n",
      " $ districtDemographics     : Factor w/ 435 levels \"Alabama 1\",\"Alabama 2\",..: 1 2 3 4 5 6 7 8 9 10 ...\n",
      " $ sex_ratio                : num  93.1 93.2 94.9 96.3 95.2 ...\n",
      " $ minors                   : num  22.5 22.5 21.7 22.5 21.6 ...\n",
      " $ voting_age_pop           : int  556011 523012 562241 533068 576830 540854 525572 551796 604473 594587 ...\n",
      " $ seniors                  : num  23.6 23 21.3 24.1 21.8 ...\n",
      " $ med_age                  : num  40.4 39 38.9 41.1 39.7 39.9 36.8 35 39 41.5 ...\n",
      " $ white                    : num  66.9 62.8 68.9 86.8 75 ...\n",
      " $ black                    : num  27.4 32.2 26.3 7.4 18.3 ...\n",
      " $ amerindian               : num  1.026 0.311 0.298 0.477 0.544 ...\n",
      " $ islander                 : num  0.0192 0.045 0.0521 0.1049 0.0482 ...\n",
      " $ asian                    : num  1.416 1.253 1.844 0.474 1.655 ...\n",
      " $ other_race               : num  1.144 1.393 0.972 2.953 1.774 ...\n",
      " $ multiracial              : num  2.09 1.93 1.68 1.78 2.62 ...\n",
      " $ hispanic                 : num  3.29 3.87 2.95 6.94 5.46 ...\n",
      " $ mexican                  : num  46.6 55.9 50.3 50.7 69.1 ...\n",
      " $ puerto_rican             : num  13.12 17.62 13.86 6.91 10.07 ...\n",
      " $ cuban                    : num  4.964 1.765 0.751 1.312 2.619 ...\n",
      " $ other_hispanic           : num  35.3 24.7 35.1 41.1 18.2 ...\n",
      " $ natural_born_citizen     : num  96.9 97.1 96.8 95.9 95.8 ...\n",
      " $ born_in_state            : num  504787 472690 476101 532080 454992 ...\n",
      " $ born_out_of_state        : num  207282 194570 233958 150846 270292 ...\n",
      " $ born_abroad              : num  5369 7660 7836 4526 10574 ...\n",
      " $ foreign_born             : num  3.15 2.9 3.24 4.1 4.24 ...\n",
      " $ disabled                 : num  13.1 15.7 16.8 16.9 13.5 ...\n",
      " $ same_house               : num  88.5 85.3 86 90 84.9 ...\n",
      " $ diff_county              : num  3.4 6.79 5.99 3.9 5.78 ...\n",
      " $ diff_state               : num  1.77 2.99 2.51 1.05 2.86 ...\n",
      " $ abroad                   : num  0.107 0.548 0.322 0.156 0.234 ...\n",
      " $ labor_force_participation: num  56.2 57 58.2 55.9 60.4 ...\n",
      " $ unemployment             : num  5.7 4.5 5.9 4.3 4.3 3.3 6.8 5.8 6.9 4.7 ...\n",
      " $ servicemen               : num  0.1086 1.6628 0.738 0.0662 0.2977 ...\n",
      " $ car                      : num  93.4 94 94 96.2 93.7 ...\n",
      " $ walking_public_transit   : num  1.21 2.02 2.21 1.09 1.18 ...\n",
      " $ worked_from_home         : num  3.81 3.1 2.86 2.13 3.98 ...\n",
      " $ commute                  : num  25 23.5 26 26.8 23.3 28.7 24.5 20.2 26.1 24 ...\n",
      " $ private_sector           : num  78.7 75.7 75.5 79.8 79.2 ...\n",
      " $ public_sector            : num  15.7 19.5 19 13.8 15.7 ...\n",
      " $ self_employed            : num  5.35 4.75 5.27 6.09 5.03 ...\n",
      " $ homeowner_vacancy        : num  2.2 1.8 1.8 1.3 0.8 1.3 0.9 1.7 1.9 1.9 ...\n",
      " $ rental_vacancy           : num  20.9 8.5 6.8 7.7 5.2 8.3 8.4 9.2 8.3 6.5 ...\n",
      " $ owner_occupied           : num  69.1 65.6 71.6 73.9 69.5 ...\n",
      " $ renter_occupied          : num  30.9 34.4 28.4 26.1 30.5 ...\n",
      " $ two_or_less              : num  25.2 27.1 26.8 21.8 29.3 ...\n",
      " $ three_to_four            : num  13.5 13.2 11.6 12.1 12.3 ...\n",
      " $ five_to_nine             : num  14.3 13.5 16.2 16.5 14.2 ...\n",
      " $ ten_to_nineteen          : num  21.8 21.7 20.5 21 20.5 ...\n",
      " $ twenty_to_twenty_nine    : num  11.5 11.4 11.6 13.1 11.9 ...\n",
      " $ thirty_or_more           : num  13.7 13.2 13.2 15.5 11.8 ...\n",
      " $ med_smoc_mort            : int  1220 1092 1141 1066 1192 1414 1081 1882 1358 1351 ...\n",
      " $ med_smoc_no_mort         : int  365 347 350 342 370 415 366 577 352 430 ...\n",
      " $ med_rent                 : int  872 815 771 661 783 1026 789 1201 971 883 ...\n",
      " $ med_hincome              : int  50663 50494 51925 47531 59950 69072 38023 75463 56117 54835 ...\n",
      " $ mean_hincome             : int  68866 66203 69896 63030 80182 96777 53378 98504 73110 78700 ...\n",
      " $ insured                  : num  89.8 89.6 91.5 88.6 90.7 ...\n",
      " $ private_coverage         : num  70.9 72.3 75.1 72.7 80.3 ...\n",
      " $ public_coverage          : num  43.5 44.5 40.3 43.9 37.1 ...\n",
      " $ uninsured                : num  10.19 10.4 8.52 11.43 9.34 ...\n",
      " $ pov_families             : num  11.1 13 10.8 10.9 9.8 6.3 18.1 6.6 12.2 8.4 ...\n",
      " $ pov_mcouples             : num  4.3 5.1 6.1 6.6 4.5 3.8 6 3.3 5.6 4.7 ...\n",
      " $ pov_single_mothers       : num  27.7 32.5 30.1 27.7 29.1 16.5 37.1 20.5 31.4 20.3 ...\n",
      " $ pov                      : num  15.4 16.4 15 15.6 13.2 9.5 23.7 10.1 18 13.1 ...\n",
      " $ no_hsdiploma             : num  11.8 13.4 14.9 17.1 10.7 ...\n",
      " $ high_school              : num  33.6 31.9 30.9 34.2 27.2 ...\n",
      " $ some_college             : num  20.7 21.8 20.5 22 20 ...\n",
      " $ associates               : num  8.93 9.36 9.72 9.18 8.75 ...\n",
      " $ bachelors                : num  16.1 14.8 13.6 11.5 20.9 ...\n",
      " $ graduate                 : num  8.88 8.7 10.38 6.06 12.58 ...\n",
      " $ party                    : Factor w/ 2 levels \"D\",\"R\": 2 2 2 2 2 2 1 2 1 1 ...\n",
      " $ flipped                  : logi  NA NA NA NA NA NA ...\n"
     ]
    }
   ],
   "source": [
    "df <- read.csv(\"data/census/demographics/preprocessed/districtDemographics.csv\")\n",
    "str(df)"
   ]
  },
  {
   "cell_type": "code",
   "execution_count": 8,
   "id": "possible-plate",
   "metadata": {},
   "outputs": [
    {
     "data": {
      "text/html": [
       "<table>\n",
       "<thead><tr><th scope=col>districtDemographics</th><th scope=col>sex_ratio</th><th scope=col>minors</th><th scope=col>voting_age_pop</th><th scope=col>seniors</th><th scope=col>med_age</th><th scope=col>white</th><th scope=col>black</th><th scope=col>amerindian</th><th scope=col>islander</th><th scope=col>...</th><th scope=col>pov_single_mothers</th><th scope=col>pov</th><th scope=col>no_hsdiploma</th><th scope=col>high_school</th><th scope=col>some_college</th><th scope=col>associates</th><th scope=col>bachelors</th><th scope=col>graduate</th><th scope=col>party</th><th scope=col>flipped</th></tr></thead>\n",
       "<tbody>\n",
       "\t<tr><td>Alabama 1 </td><td>93.08131  </td><td>22.50048  </td><td>556011    </td><td>23.58784  </td><td>40.4      </td><td>66.89846  </td><td>27.408780 </td><td>1.0258726 </td><td>0.01923511</td><td>...       </td><td>27.7      </td><td>15.4      </td><td>11.827283 </td><td>33.59055  </td><td>20.68379  </td><td>8.933211  </td><td>16.08657  </td><td> 8.878595 </td><td>R         </td><td>NA        </td></tr>\n",
       "\t<tr><td>Alabama 2 </td><td>93.23566  </td><td>22.50756  </td><td>523012    </td><td>23.00769  </td><td>39.0      </td><td>62.83930  </td><td>32.227227 </td><td>0.3108517 </td><td>0.04504238</td><td>...       </td><td>32.5      </td><td>16.4      </td><td>13.380469 </td><td>31.92943  </td><td>21.83094  </td><td>9.357044  </td><td>14.80710  </td><td> 8.695022 </td><td>R         </td><td>NA        </td></tr>\n",
       "\t<tr><td>Alabama 3 </td><td>94.94217  </td><td>21.68211  </td><td>562241    </td><td>21.32395  </td><td>38.9      </td><td>68.87571  </td><td>26.273026 </td><td>0.2983719 </td><td>0.05209668</td><td>...       </td><td>30.1      </td><td>15.0      </td><td>14.920376 </td><td>30.90275  </td><td>20.50690  </td><td>9.719882  </td><td>13.56845  </td><td>10.381647 </td><td>R         </td><td>NA        </td></tr>\n",
       "\t<tr><td>Alabama 4 </td><td>96.34558  </td><td>22.45754  </td><td>533068    </td><td>24.12394  </td><td>41.1      </td><td>86.81830  </td><td> 7.396287 </td><td>0.4766871 </td><td>0.10487990</td><td>...       </td><td>27.7      </td><td>15.6      </td><td>17.057698 </td><td>34.23822  </td><td>21.98402  </td><td>9.183179  </td><td>11.47589  </td><td> 6.060986 </td><td>R         </td><td>NA        </td></tr>\n",
       "\t<tr><td>Alabama 5 </td><td>95.17071  </td><td>21.61123  </td><td>576830    </td><td>21.80504  </td><td>39.7      </td><td>75.01665  </td><td>18.345795 </td><td>0.5442626 </td><td>0.04824300</td><td>...       </td><td>29.1      </td><td>13.2      </td><td>10.659150 </td><td>27.15756  </td><td>19.98443  </td><td>8.745818  </td><td>20.86955  </td><td>12.583490 </td><td>R         </td><td>NA        </td></tr>\n",
       "\t<tr><td>Alabama 6 </td><td>92.60237  </td><td>22.69152  </td><td>540854    </td><td>21.40504  </td><td>39.9      </td><td>78.59321  </td><td>15.964437 </td><td>0.3889338 </td><td>0.00000000</td><td>...       </td><td>16.5      </td><td> 9.5      </td><td> 9.048748 </td><td>23.65964  </td><td>20.85788  </td><td>7.971560  </td><td>23.85066  </td><td>14.611508 </td><td>R         </td><td>NA        </td></tr>\n",
       "</tbody>\n",
       "</table>\n"
      ],
      "text/latex": [
       "\\begin{tabular}{r|lllllllllllllllllllllllllllllllllllllllllllllllllllllllllllllllllllll}\n",
       " districtDemographics & sex\\_ratio & minors & voting\\_age\\_pop & seniors & med\\_age & white & black & amerindian & islander & ... & pov\\_single\\_mothers & pov & no\\_hsdiploma & high\\_school & some\\_college & associates & bachelors & graduate & party & flipped\\\\\n",
       "\\hline\n",
       "\t Alabama 1  & 93.08131   & 22.50048   & 556011     & 23.58784   & 40.4       & 66.89846   & 27.408780  & 1.0258726  & 0.01923511 & ...        & 27.7       & 15.4       & 11.827283  & 33.59055   & 20.68379   & 8.933211   & 16.08657   &  8.878595  & R          & NA        \\\\\n",
       "\t Alabama 2  & 93.23566   & 22.50756   & 523012     & 23.00769   & 39.0       & 62.83930   & 32.227227  & 0.3108517  & 0.04504238 & ...        & 32.5       & 16.4       & 13.380469  & 31.92943   & 21.83094   & 9.357044   & 14.80710   &  8.695022  & R          & NA        \\\\\n",
       "\t Alabama 3  & 94.94217   & 21.68211   & 562241     & 21.32395   & 38.9       & 68.87571   & 26.273026  & 0.2983719  & 0.05209668 & ...        & 30.1       & 15.0       & 14.920376  & 30.90275   & 20.50690   & 9.719882   & 13.56845   & 10.381647  & R          & NA        \\\\\n",
       "\t Alabama 4  & 96.34558   & 22.45754   & 533068     & 24.12394   & 41.1       & 86.81830   &  7.396287  & 0.4766871  & 0.10487990 & ...        & 27.7       & 15.6       & 17.057698  & 34.23822   & 21.98402   & 9.183179   & 11.47589   &  6.060986  & R          & NA        \\\\\n",
       "\t Alabama 5  & 95.17071   & 21.61123   & 576830     & 21.80504   & 39.7       & 75.01665   & 18.345795  & 0.5442626  & 0.04824300 & ...        & 29.1       & 13.2       & 10.659150  & 27.15756   & 19.98443   & 8.745818   & 20.86955   & 12.583490  & R          & NA        \\\\\n",
       "\t Alabama 6  & 92.60237   & 22.69152   & 540854     & 21.40504   & 39.9       & 78.59321   & 15.964437  & 0.3889338  & 0.00000000 & ...        & 16.5       &  9.5       &  9.048748  & 23.65964   & 20.85788   & 7.971560   & 23.85066   & 14.611508  & R          & NA        \\\\\n",
       "\\end{tabular}\n"
      ],
      "text/markdown": [
       "\n",
       "| districtDemographics | sex_ratio | minors | voting_age_pop | seniors | med_age | white | black | amerindian | islander | ... | pov_single_mothers | pov | no_hsdiploma | high_school | some_college | associates | bachelors | graduate | party | flipped |\n",
       "|---|---|---|---|---|---|---|---|---|---|---|---|---|---|---|---|---|---|---|---|---|\n",
       "| Alabama 1  | 93.08131   | 22.50048   | 556011     | 23.58784   | 40.4       | 66.89846   | 27.408780  | 1.0258726  | 0.01923511 | ...        | 27.7       | 15.4       | 11.827283  | 33.59055   | 20.68379   | 8.933211   | 16.08657   |  8.878595  | R          | NA         |\n",
       "| Alabama 2  | 93.23566   | 22.50756   | 523012     | 23.00769   | 39.0       | 62.83930   | 32.227227  | 0.3108517  | 0.04504238 | ...        | 32.5       | 16.4       | 13.380469  | 31.92943   | 21.83094   | 9.357044   | 14.80710   |  8.695022  | R          | NA         |\n",
       "| Alabama 3  | 94.94217   | 21.68211   | 562241     | 21.32395   | 38.9       | 68.87571   | 26.273026  | 0.2983719  | 0.05209668 | ...        | 30.1       | 15.0       | 14.920376  | 30.90275   | 20.50690   | 9.719882   | 13.56845   | 10.381647  | R          | NA         |\n",
       "| Alabama 4  | 96.34558   | 22.45754   | 533068     | 24.12394   | 41.1       | 86.81830   |  7.396287  | 0.4766871  | 0.10487990 | ...        | 27.7       | 15.6       | 17.057698  | 34.23822   | 21.98402   | 9.183179   | 11.47589   |  6.060986  | R          | NA         |\n",
       "| Alabama 5  | 95.17071   | 21.61123   | 576830     | 21.80504   | 39.7       | 75.01665   | 18.345795  | 0.5442626  | 0.04824300 | ...        | 29.1       | 13.2       | 10.659150  | 27.15756   | 19.98443   | 8.745818   | 20.86955   | 12.583490  | R          | NA         |\n",
       "| Alabama 6  | 92.60237   | 22.69152   | 540854     | 21.40504   | 39.9       | 78.59321   | 15.964437  | 0.3889338  | 0.00000000 | ...        | 16.5       |  9.5       |  9.048748  | 23.65964   | 20.85788   | 7.971560   | 23.85066   | 14.611508  | R          | NA         |\n",
       "\n"
      ],
      "text/plain": [
       "  districtDemographics sex_ratio minors   voting_age_pop seniors  med_age\n",
       "1 Alabama 1            93.08131  22.50048 556011         23.58784 40.4   \n",
       "2 Alabama 2            93.23566  22.50756 523012         23.00769 39.0   \n",
       "3 Alabama 3            94.94217  21.68211 562241         21.32395 38.9   \n",
       "4 Alabama 4            96.34558  22.45754 533068         24.12394 41.1   \n",
       "5 Alabama 5            95.17071  21.61123 576830         21.80504 39.7   \n",
       "6 Alabama 6            92.60237  22.69152 540854         21.40504 39.9   \n",
       "  white    black     amerindian islander   ... pov_single_mothers pov \n",
       "1 66.89846 27.408780 1.0258726  0.01923511 ... 27.7               15.4\n",
       "2 62.83930 32.227227 0.3108517  0.04504238 ... 32.5               16.4\n",
       "3 68.87571 26.273026 0.2983719  0.05209668 ... 30.1               15.0\n",
       "4 86.81830  7.396287 0.4766871  0.10487990 ... 27.7               15.6\n",
       "5 75.01665 18.345795 0.5442626  0.04824300 ... 29.1               13.2\n",
       "6 78.59321 15.964437 0.3889338  0.00000000 ... 16.5                9.5\n",
       "  no_hsdiploma high_school some_college associates bachelors graduate  party\n",
       "1 11.827283    33.59055    20.68379     8.933211   16.08657   8.878595 R    \n",
       "2 13.380469    31.92943    21.83094     9.357044   14.80710   8.695022 R    \n",
       "3 14.920376    30.90275    20.50690     9.719882   13.56845  10.381647 R    \n",
       "4 17.057698    34.23822    21.98402     9.183179   11.47589   6.060986 R    \n",
       "5 10.659150    27.15756    19.98443     8.745818   20.86955  12.583490 R    \n",
       "6  9.048748    23.65964    20.85788     7.971560   23.85066  14.611508 R    \n",
       "  flipped\n",
       "1 NA     \n",
       "2 NA     \n",
       "3 NA     \n",
       "4 NA     \n",
       "5 NA     \n",
       "6 NA     "
      ]
     },
     "metadata": {},
     "output_type": "display_data"
    }
   ],
   "source": [
    "head(df)"
   ]
  },
  {
   "cell_type": "code",
   "execution_count": 12,
   "id": "broad-carroll",
   "metadata": {},
   "outputs": [
    {
     "ename": "ERROR",
     "evalue": "Error in if (df[i, \"flipped\"] != TRUE) {: missing value where TRUE/FALSE needed\n",
     "output_type": "error",
     "traceback": [
      "Error in if (df[i, \"flipped\"] != TRUE) {: missing value where TRUE/FALSE needed\nTraceback:\n"
     ]
    }
   ],
   "source": [
    "# Addressing NA values in flipped column\n",
    "for (i in 1:length(df$flipped)) {\n",
    "    if (df[i, \"flipped\"] != TRUE) {df[i, \"flipped\"] <- FALSE}\n",
    "}"
   ]
  }
 ],
 "metadata": {
  "kernelspec": {
   "display_name": "R",
   "language": "R",
   "name": "ir"
  },
  "language_info": {
   "codemirror_mode": "r",
   "file_extension": ".r",
   "mimetype": "text/x-r-source",
   "name": "R",
   "pygments_lexer": "r",
   "version": "3.6.1"
  }
 },
 "nbformat": 4,
 "nbformat_minor": 5
}
